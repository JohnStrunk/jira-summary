{
 "cells": [
  {
   "cell_type": "code",
   "execution_count": null,
   "metadata": {
    "metadata": {}
   },
   "outputs": [],
   "source": [
    "# Create a JIRA client\n",
    "from os import environ\n",
    "from atlassian import Jira\n",
    "jira_api_token = environ.get('JIRA_TOKEN', '')\n",
    "jira_url = environ.get('JIRA_URL', '')\n",
    "jira = Jira(url=jira_url, token=jira_api_token)"
   ]
  },
  {
   "cell_type": "code",
   "execution_count": null,
   "metadata": {
    "metadata": {}
   },
   "outputs": [],
   "source": [
    "import summarizer\n",
    "import importlib\n",
    "\n",
    "# Reload the 'summarizer' module\n",
    "importlib.reload(summarizer)\n"
   ]
  },
  {
   "cell_type": "code",
   "execution_count": null,
   "metadata": {
    "metadata": {}
   },
   "outputs": [],
   "source": [
    "from datetime import datetime\n",
    "summarizer.get_issues_to_summarize(jira, datetime.fromisoformat('2024-04-19'))"
   ]
  }
 ],
 "metadata": {
  "kernelspec": {
   "display_name": ".venv",
   "language": "python",
   "name": "python3"
  },
  "language_info": {
   "codemirror_mode": {
    "name": "ipython",
    "version": 3
   },
   "file_extension": ".py",
   "mimetype": "text/x-python",
   "name": "python",
   "nbconvert_exporter": "python",
   "pygments_lexer": "ipython3",
   "version": "3.12.2"
  }
 },
 "nbformat": 4,
 "nbformat_minor": 2
}

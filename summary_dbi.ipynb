{
 "cells": [
  {
   "cell_type": "code",
   "execution_count": null,
   "metadata": {},
   "outputs": [],
   "source": [
    "import importlib\n",
    "import summary_dbi\n",
    "summary_dbi = importlib.reload(summary_dbi)"
   ]
  },
  {
   "cell_type": "code",
   "execution_count": null,
   "metadata": {},
   "outputs": [],
   "source": [
    "engine = summary_dbi.mariadb_db()"
   ]
  },
  {
   "cell_type": "code",
   "execution_count": null,
   "metadata": {},
   "outputs": [],
   "source": [
    "from summary_dbi import Summary\n",
    "from sqlalchemy.orm import Session\n",
    "\n",
    "\n",
    "with Session(engine) as session:\n",
    "    total_issues = session.query(Summary).count()\n",
    "    stale_issues = session.query(Summary).filter(\n",
    "        Summary.stale_ts.isnot(None)).count()\n",
    "    print(f\"Total issues: {total_issues}\")\n",
    "    print(f\"Stale issues: {stale_issues}\")"
   ]
  },
  {
   "cell_type": "code",
   "execution_count": null,
   "metadata": {},
   "outputs": [],
   "source": [
    "with Session(engine) as session:\n",
    "    q = session.query(Summary).filter(Summary.issue_key == 'OCTOET-236').all()\n",
    "print(q)"
   ]
  },
  {
   "cell_type": "code",
   "execution_count": null,
   "metadata": {},
   "outputs": [],
   "source": [
    "from summary_dbi import mark_stale\n",
    "\n",
    "\n",
    "mark_stale(engine, 'OCTOET-236')\n",
    "mark_stale(engine, 'OCTOET-85')\n",
    "mark_stale(engine, 'OCTO-2')"
   ]
  }
 ],
 "metadata": {
  "kernelspec": {
   "display_name": ".venv",
   "language": "python",
   "name": "python3"
  },
  "language_info": {
   "codemirror_mode": {
    "name": "ipython",
    "version": 3
   },
   "file_extension": ".py",
   "mimetype": "text/x-python",
   "name": "python",
   "nbconvert_exporter": "python",
   "pygments_lexer": "ipython3",
   "version": "3.12.4"
  }
 },
 "nbformat": 4,
 "nbformat_minor": 2
}

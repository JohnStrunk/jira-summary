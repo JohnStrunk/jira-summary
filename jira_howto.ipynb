{
 "cells": [
  {
   "cell_type": "markdown",
   "metadata": {},
   "source": [
    "# Jira How-to\n",
    "\n",
    "This notebook walks through how to use the jira python package to work with our Jira instance.\n",
    "\n",
    "## Obtain an API token for Jira\n",
    "\n",
    "- Go to https://issues.redhat.com and log in.\n",
    "- Click on your profile icon in the top right corner and select \"Profile\".\n",
    "- Click on \"Personal Access Tokens\" in the left sidebar.\n",
    "- Click on \"Create token\"\n",
    "- Give the token a name, and an expiration date (optional, but recommended)\n",
    "- Click \"Create\"\n",
    "- Copy the token to a safe place. You will not be able to see it again.\n",
    "\n",
    "NOTE: This token has the same permissions as your account, so keep it safe.\n",
    "\n",
    "You will need to set it as an environment variable. The easiest way to do this\n",
    "is to add the following to a file called `.env` in the current directory:\n",
    "\n",
    "```shell\n",
    "JIRA_TOKEN=xxxxxxxxxxxxxxxxxxxxxxx\n",
    "```"
   ]
  },
  {
   "cell_type": "markdown",
   "metadata": {},
   "source": [
    "----"
   ]
  },
  {
   "cell_type": "markdown",
   "metadata": {},
   "source": [
    "## Let's play with Atlassian's Jira API...\n",
    "\n",
    "https://atlassian-python-api.readthedocs.io/index.html\n",
    "\n",
    "This package is a wrapper around the Jira API, and it isn't properly typed... The calls just return dictionaries."
   ]
  },
  {
   "cell_type": "code",
   "execution_count": null,
   "metadata": {
    "metadata": {}
   },
   "outputs": [],
   "source": [
    "# Create a JIRA client\n",
    "from os import environ\n",
    "from atlassian import Jira\n",
    "jira_api_token = environ.get('JIRA_TOKEN', '')\n",
    "jira_url = environ.get('JIRA_URL', '')\n",
    "jira = Jira(url=jira_url, token=jira_api_token)"
   ]
  },
  {
   "cell_type": "code",
   "execution_count": null,
   "metadata": {
    "metadata": {}
   },
   "outputs": [],
   "source": [
    "issue_key = 'RHSTOR-919'\n",
    "issue = jira.issue(issue_key)\n",
    "print(f\"{type(issue)}\\n\")\n",
    "\n",
    "from pprint import pprint\n",
    "pprint(issue)"
   ]
  },
  {
   "cell_type": "code",
   "execution_count": null,
   "metadata": {
    "metadata": {}
   },
   "outputs": [],
   "source": [
    "# Let's get the properties as well...\n",
    "issue_with_properties = jira.get_issue(issue_key, properties=\"*all\")\n",
    "pprint(issue_with_properties)"
   ]
  },
  {
   "cell_type": "code",
   "execution_count": null,
   "metadata": {
    "metadata": {}
   },
   "outputs": [],
   "source": [
    "rlinks = jira.get_issue_remote_links(issue_key)\n",
    "for rlink in rlinks:\n",
    "    print(f\"{rlink['object']['title']} -> {rlink['object']['url']}\")"
   ]
  },
  {
   "cell_type": "code",
   "execution_count": null,
   "metadata": {
    "metadata": {}
   },
   "outputs": [],
   "source": [
    "# Lets look at all the possible Jira fields and their types:\n",
    "fields = jira.get_all_fields()\n",
    "for field in sorted(fields, key=lambda x: x['id']):\n",
    "    type = field['schema']['type'] if 'schema' in field else 'unknown'\n",
    "    print(f\"{field['id']} -> {field['name']} -- {type}\")"
   ]
  },
  {
   "cell_type": "code",
   "execution_count": null,
   "metadata": {
    "metadata": {}
   },
   "outputs": [],
   "source": [
    "for field in fields:\n",
    "    if field['id'] in ['customfield_12311140', 'customfield_12311141', 'customfield_12313140', 'customfield_12318341']:\n",
    "        pprint(field)\n"
   ]
  },
  {
   "cell_type": "code",
   "execution_count": null,
   "metadata": {
    "metadata": {}
   },
   "outputs": [],
   "source": [
    "# Accessing \"Parent Link\" custom field\n",
    "et85 = jira.get_issue('OCTOET-85')\n",
    "pprint(et85['fields']['customfield_12313140'])  # Has parent\n",
    "\n",
    "stor919 = jira.get_issue('RHSTOR-919')\n",
    "pprint(stor919['fields']['customfield_12313140'])  # No parent"
   ]
  },
  {
   "cell_type": "code",
   "execution_count": null,
   "metadata": {
    "metadata": {}
   },
   "outputs": [],
   "source": [
    "interesting_fields = ['customfield_12311140', 'customfield_12311141', 'customfield_12313140']\n",
    "issue = jira.get_issue('OPRUN-3254')\n",
    "for field in interesting_fields:\n",
    "    field_name = \"unknown\"\n",
    "    for idx in fields:\n",
    "        if idx['id'] == field:\n",
    "            field_name = idx['name']\n",
    "            break\n",
    "    print(f\"{field_name} -> {issue['fields'].get(field, None)}\")"
   ]
  },
  {
   "cell_type": "code",
   "execution_count": null,
   "metadata": {
    "metadata": {}
   },
   "outputs": [],
   "source": [
    "# Get a list of the custom fields in this issue by finding all fields that start with \"customfield_\"\n",
    "custom_fields = [k for k in issue['fields'].keys() if k.startswith('customfield_')]\n",
    "for field in custom_fields:\n",
    "    if issue['fields'].get(field, None) is None:\n",
    "        continue\n",
    "    field_name = \"unknown\"\n",
    "    id = \"?\"\n",
    "    for idx in fields:\n",
    "        if idx['id'] == field:\n",
    "            id = idx['id']\n",
    "            field_name = idx['name']\n",
    "            break\n",
    "    print(f\"{field_name} ({id}) -> {issue['fields'].get(field, None)}\")\n"
   ]
  },
  {
   "cell_type": "code",
   "execution_count": null,
   "metadata": {
    "metadata": {}
   },
   "outputs": [],
   "source": [
    "import sys\n",
    "\n",
    "\n",
    "if 'jhelper' in sys.modules:\n",
    "    del sys.modules['jhelper']\n",
    "import jhelper\n",
    "\n",
    "for i in ['OPRUN-1858', 'OPRUN-3254', 'RHSTOR-919']:\n",
    "    print(f\"Related issues for {i}:\")\n",
    "    issue = jhelper.Issue(jira, i)\n",
    "    related = issue.related\n",
    "    for r in related:\n",
    "        print(f\"  {r.how} -> {r.key}\")"
   ]
  },
  {
   "cell_type": "code",
   "execution_count": null,
   "metadata": {
    "metadata": {}
   },
   "outputs": [],
   "source": [
    "pprint(jira.jql(\"labels = 'AISummary' ORDER BY created DESC\", limit=5, fields=\"key,summary,updated\"))"
   ]
  },
  {
   "cell_type": "code",
   "execution_count": null,
   "metadata": {
    "metadata": {}
   },
   "outputs": [],
   "source": [
    "jira.get_issue_changelog('RHSTOR-5635')"
   ]
  },
  {
   "cell_type": "code",
   "execution_count": null,
   "metadata": {
    "metadata": {}
   },
   "outputs": [],
   "source": [
    "pprint(jira.myself())"
   ]
  }
 ],
 "metadata": {
  "kernelspec": {
   "display_name": "Python 3",
   "language": "python",
   "name": "python3"
  },
  "language_info": {
   "codemirror_mode": {
    "name": "ipython",
    "version": 3
   },
   "file_extension": ".py",
   "mimetype": "text/x-python",
   "name": "python",
   "nbconvert_exporter": "python",
   "pygments_lexer": "ipython3",
   "version": "3.12.2"
  }
 },
 "nbformat": 4,
 "nbformat_minor": 2
}

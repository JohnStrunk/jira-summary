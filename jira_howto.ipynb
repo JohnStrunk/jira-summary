{
 "cells": [
  {
   "cell_type": "markdown",
   "metadata": {},
   "source": [
    "# Jira How-to\n",
    "\n",
    "This notebook walks through how to use the jira python package to work with our Jira instance.\n",
    "\n",
    "## Obtain an API token for Jira\n",
    "\n",
    "- Go to https://issues.redhat.com and log in.\n",
    "- Click on your profile icon in the top right corner and select \"Profile\".\n",
    "- Click on \"Personal Access Tokens\" in the left sidebar.\n",
    "- Click on \"Create token\"\n",
    "- Give the token a name, and an expiration date (optional, but recommended)\n",
    "- Click \"Create\"\n",
    "- Copy the token to a safe place. You will not be able to see it again.\n",
    "\n",
    "NOTE: This token has the same permissions as your account, so keep it safe.\n",
    "\n",
    "You will need to set it as an environment variable. The easiest way to do this\n",
    "is to add the following to a file called `.env` in the current directory:\n",
    "\n",
    "```shell\n",
    "JIRA_TOKEN=xxxxxxxxxxxxxxxxxxxxxxx\n",
    "```"
   ]
  },
  {
   "cell_type": "markdown",
   "metadata": {},
   "source": [
    "----"
   ]
  },
  {
   "cell_type": "markdown",
   "metadata": {},
   "source": [
    "## Let's play with Atlassian's Jira API...\n",
    "\n",
    "https://atlassian-python-api.readthedocs.io/index.html\n",
    "\n",
    "This package is a wrapper around the Jira API, and it isn't properly typed... The calls just return dictionaries."
   ]
  },
  {
   "cell_type": "code",
   "execution_count": null,
   "metadata": {
    "metadata": {}
   },
   "outputs": [],
   "source": [
    "# Create a JIRA client\n",
    "from os import environ\n",
    "from atlassian import Jira\n",
    "\n",
    "jira_api_token = environ.get(\"JIRA_TOKEN\", \"\")\n",
    "jira_url = environ.get(\"JIRA_URL\", \"\")\n",
    "jira = Jira(url=jira_url, token=jira_api_token, backoff_and_retry=True)"
   ]
  },
  {
   "cell_type": "code",
   "execution_count": null,
   "metadata": {
    "metadata": {}
   },
   "outputs": [],
   "source": [
    "# Lets look at all the possible Jira fields and their types:\n",
    "fields = jira.get_all_fields()\n",
    "for field in sorted(fields, key=lambda x: x[\"id\"]):\n",
    "    ftype = field[\"schema\"][\"type\"] if \"schema\" in field else \"unknown\"\n",
    "    print(f\"{field['id']} -> {field['name']} -- {ftype}\")"
   ]
  },
  {
   "cell_type": "code",
   "execution_count": null,
   "metadata": {
    "metadata": {}
   },
   "outputs": [],
   "source": [
    "from pprint import pprint\n",
    "\n",
    "for field in fields:\n",
    "    if field[\"id\"] in [\n",
    "        \"customfield_12311140\",\n",
    "        \"customfield_12311141\",\n",
    "        \"customfield_12313140\",\n",
    "        \"customfield_12318341\",\n",
    "    ]:\n",
    "        pprint(field)"
   ]
  },
  {
   "cell_type": "code",
   "execution_count": null,
   "metadata": {
    "metadata": {}
   },
   "outputs": [],
   "source": [
    "# Accessing \"Parent Link\" custom field\n",
    "et85 = jira.get_issue(\"OCTOET-85\")\n",
    "pprint(et85[\"fields\"][\"customfield_12313140\"])  # Has parent\n",
    "\n",
    "stor919 = jira.get_issue(\"RHSTOR-919\")\n",
    "pprint(stor919[\"fields\"][\"customfield_12313140\"])  # No parent"
   ]
  },
  {
   "cell_type": "code",
   "execution_count": null,
   "metadata": {
    "metadata": {}
   },
   "outputs": [],
   "source": [
    "interesting_fields = [\n",
    "    \"customfield_12311140\",\n",
    "    \"customfield_12311141\",\n",
    "    \"customfield_12313140\",\n",
    "]\n",
    "issue = jira.get_issue(\"OPRUN-3254\")\n",
    "for field in interesting_fields:\n",
    "    field_name = \"unknown\"\n",
    "    for idx in fields:\n",
    "        if idx[\"id\"] == field:\n",
    "            field_name = idx[\"name\"]\n",
    "            break\n",
    "    print(f\"{field_name} -> {issue['fields'].get(field, None)}\")"
   ]
  },
  {
   "cell_type": "code",
   "execution_count": null,
   "metadata": {
    "metadata": {}
   },
   "outputs": [],
   "source": [
    "# Get a list of the custom fields in this issue by finding all fields that start with \"customfield_\"\n",
    "custom_fields = [k for k in issue[\"fields\"].keys()\n",
    "                 if k.startswith(\"customfield_\")]\n",
    "for field in custom_fields:\n",
    "    if issue[\"fields\"].get(field, None) is None:\n",
    "        continue\n",
    "    field_name = \"unknown\"\n",
    "    id = \"?\"\n",
    "    for idx in fields:\n",
    "        if idx[\"id\"] == field:\n",
    "            id = idx[\"id\"]\n",
    "            field_name = idx[\"name\"]\n",
    "            break\n",
    "    print(f\"{field_name} ({id}) -> {issue['fields'].get(field, None)}\")"
   ]
  },
  {
   "cell_type": "code",
   "execution_count": null,
   "metadata": {
    "metadata": {}
   },
   "outputs": [],
   "source": [
    "pprint(\n",
    "    jira.jql(\n",
    "        \"labels = 'AISummary' ORDER BY created DESC\",\n",
    "        limit=5,\n",
    "        fields=\"key,summary,updated\",\n",
    "    )\n",
    ")"
   ]
  },
  {
   "cell_type": "code",
   "execution_count": null,
   "metadata": {
    "metadata": {}
   },
   "outputs": [],
   "source": [
    "# With a private comment\n",
    "pprint(jira.issue(\"OHSS-34055\"))"
   ]
  },
  {
   "cell_type": "markdown",
   "metadata": {},
   "source": [
    "Private comments have: `comment['visibility'] = {'type': 'group', 'value': 'Red Hat Employee'}`\n",
    "\n",
    "Otherwise, they do not have the visibility key."
   ]
  },
  {
   "cell_type": "code",
   "execution_count": null,
   "metadata": {},
   "outputs": [],
   "source": [
    "pprint(jira.get_issue(\"OCTO-2\")[\"fields\"][\"customfield_12315950\"])"
   ]
  },
  {
   "cell_type": "code",
   "execution_count": null,
   "metadata": {},
   "outputs": [],
   "source": [
    "import jiraissues\n",
    "\n",
    "# re-import jiraissues\n",
    "import importlib\n",
    "\n",
    "jiraissues = importlib.reload(jiraissues)\n",
    "\n",
    "i = jiraissues.Issue(jira, \"OCTO-2\")\n",
    "for user in i.contributors:\n",
    "    print(user)\n",
    "\n",
    "\n",
    "print(f\"\\n\\nI am: {jiraissues.get_self(jira)}\")"
   ]
  },
  {
   "cell_type": "code",
   "execution_count": null,
   "metadata": {},
   "outputs": [],
   "source": [
    "import summarizer\n",
    "summarizer = importlib.reload(summarizer)\n",
    "\n",
    "i = jiraissues.issue_cache.get_issue(jira, \"OCTOET-77\")\n",
    "print(summarizer.is_active(i, 14))\n",
    "print(summarizer.is_active(i, 14, True))"
   ]
  },
  {
   "cell_type": "code",
   "execution_count": null,
   "metadata": {},
   "outputs": [],
   "source": [
    "from jiraissues import descendants, issue_cache\n",
    "import rollup_status\n",
    "rollup_status = importlib.reload(rollup_status)\n",
    "\n",
    "i = jiraissues.issue_cache.get_issue(jira, \"OCTOET-85\")\n",
    "dkeys = descendants(jira, i.key)\n",
    "print(dkeys)\n",
    "\n",
    "cats = rollup_status.categorize_issues(\n",
    "    {issue_cache.get_issue(jira, k) for k in dkeys}, 14)\n",
    "pprint(cats)"
   ]
  },
  {
   "cell_type": "code",
   "execution_count": null,
   "metadata": {},
   "outputs": [],
   "source": [
    "# Experimenting w/ paged results\n",
    "\n",
    "page_size = 100\n",
    "keys = []\n",
    "while True:\n",
    "    print(f\"Starting at {len(keys)}\")\n",
    "    res = jira.jql(\n",
    "        \"labels = 'AISummary' ORDER BY created DESC\",\n",
    "        limit=page_size,\n",
    "        start=len(keys),\n",
    "        fields=\"key,summary,updated\",\n",
    "    )\n",
    "    keys.extend([issue[\"key\"] for issue in res[\"issues\"]])\n",
    "    if len(keys) >= res[\"total\"]:\n",
    "        break\n",
    "\n",
    "print(keys)\n",
    "print(res[\"total\"], len(keys))"
   ]
  },
  {
   "cell_type": "code",
   "execution_count": null,
   "metadata": {},
   "outputs": [],
   "source": [
    "pprint(jira.get_issue(\"OCTOET-85\")[\"fields\"][\"issuelinks\"][1])"
   ]
  },
  {
   "cell_type": "markdown",
   "metadata": {},
   "source": [
    "Based on the above, related issues provide the following information:\n",
    "\n",
    "- type: The type of the link\n",
    "    - inward: \"is related to\"\n",
    "    - name: \"Related\"\n",
    "    - outward: \"relates to\"\n",
    "- inwardIssue/outwardIssue: The info about the other issue. Only one of these keys will be defined\n",
    "    - fields.issuetype.name: The type of the issue (e.g., \"Task\")\n",
    "    - fields.priority.name: The priority of the issue (e.g., \"Undefined\")\n",
    "    - fields.status\n",
    "        - name: The status of the issue (e.g., \"Closed\")\n",
    "        - statusCategory.name: \"Done\"\n",
    "    - fields.summary: The title of the issue\n",
    "    - key: The issue key (e.g., \"ABC-1234\")"
   ]
  },
  {
   "cell_type": "code",
   "execution_count": null,
   "metadata": {},
   "outputs": [],
   "source": [
    "res = jira.get_issue(\"OCTOET-270\")[\"fields\"][\"subtasks\"][0]\n",
    "pprint(res)\n",
    "print(res[\"fields\"][\"issuetype\"][\"name\"])\n",
    "print(res[\"fields\"][\"priority\"][\"name\"])\n",
    "print(res[\"fields\"][\"status\"][\"name\"])\n",
    "print(res[\"fields\"][\"status\"][\"statusCategory\"][\"name\"])\n",
    "print(res[\"fields\"][\"summary\"])"
   ]
  },
  {
   "cell_type": "code",
   "execution_count": null,
   "metadata": {},
   "outputs": [],
   "source": [
    "res = jira.get_issue(\"OCTOET-270\")[\"fields\"]['customfield_12311140']\n",
    "pprint(res)\n",
    "\n",
    "for r in jira.get_issue(\"OCTOET-270\")[\"fields\"][\"issuelinks\"]:\n",
    "    pprint(r['type'])\n",
    "print()\n",
    "for r in jira.get_issue(\"OCTOET-85\")[\"fields\"][\"issuelinks\"]:\n",
    "    pprint(r['type'])"
   ]
  },
  {
   "cell_type": "code",
   "execution_count": null,
   "metadata": {},
   "outputs": [],
   "source": [
    "res = jira.get_issue(\"XKVMNINE-2984\")[\"fields\"]\n",
    "pprint(res)\n",
    "\n",
    "print(\"Feature link:\")\n",
    "pprint(res[\"customfield_12318341\"])\n",
    "\n",
    "print(\"Parent link:\")\n",
    "pprint(res[\"customfield_12313140\"])\n",
    "\n",
    "print(\"Epic link:\")\n",
    "pprint(res[\"customfield_12311140\"])"
   ]
  },
  {
   "cell_type": "code",
   "execution_count": null,
   "metadata": {},
   "outputs": [],
   "source": [
    "# page_size = 100\n",
    "# keys = []\n",
    "# while True:\n",
    "#     print(f\"Starting at {len(keys)}\")\n",
    "#     res = jira.jql(\n",
    "#         \"updated >= '2024-07-12 16:40' ORDER BY updated ASC\",\n",
    "#         limit=page_size,\n",
    "#         start=len(keys),\n",
    "#         fields=\"key,summary,updated\",\n",
    "#     )\n",
    "#     keys.extend([issue[\"key\"] for issue in res[\"issues\"]])\n",
    "#     if len(keys) >= res[\"total\"]:\n",
    "#         break\n",
    "\n",
    "# print(keys)\n",
    "# print(res[\"total\"], len(keys))"
   ]
  },
  {
   "cell_type": "code",
   "execution_count": null,
   "metadata": {},
   "outputs": [],
   "source": [
    "import jiraissues\n",
    "import importlib\n",
    "jiraissues = importlib.reload(jiraissues)\n",
    "\n",
    "i: jiraissues.Issue = jiraissues.Issue(jira, \"XCMSTRAT-31\")\n",
    "for r in i.related:\n",
    "    print(r)\n",
    "\n",
    "print(i.parent)\n",
    "\n",
    "pprint(i.__dict__)"
   ]
  },
  {
   "cell_type": "code",
   "execution_count": null,
   "metadata": {},
   "outputs": [],
   "source": [
    "from jiraissues import CF_EPIC_LINK, CF_PARENT_LINK, rget\n",
    "\n",
    "\n",
    "issue = jira.get_issue(\"OCTOET-353\")\n",
    "pprint(issue)\n",
    "print(rget(issue, \"fields\", CF_EPIC_LINK, default=\"zzz\"))\n",
    "print(rget(issue, \"fields\", CF_PARENT_LINK))\n",
    "print(rget(issue, \"fields\", \"parent\", \"key\"))"
   ]
  }
 ],
 "metadata": {
  "kernelspec": {
   "display_name": "Python 3",
   "language": "python",
   "name": "python3"
  },
  "language_info": {
   "codemirror_mode": {
    "name": "ipython",
    "version": 3
   },
   "file_extension": ".py",
   "mimetype": "text/x-python",
   "name": "python",
   "nbconvert_exporter": "python",
   "pygments_lexer": "ipython3",
   "version": "3.12.4"
  }
 },
 "nbformat": 4,
 "nbformat_minor": 2
}
